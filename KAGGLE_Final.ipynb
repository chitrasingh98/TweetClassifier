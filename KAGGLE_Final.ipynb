{
  "nbformat": 4,
  "nbformat_minor": 0,
  "metadata": {
    "colab": {
      "name": "KAGGLE_Final.ipynb",
      "provenance": [],
      "collapsed_sections": [],
      "toc_visible": true,
      "include_colab_link": true
    },
    "kernelspec": {
      "name": "python3",
      "display_name": "Python 3"
    }
  },
  "cells": [
    {
      "cell_type": "markdown",
      "metadata": {
        "id": "view-in-github",
        "colab_type": "text"
      },
      "source": [
        "<a href=\"https://colab.research.google.com/github/chirenshah/TweetClassifier/blob/master/KAGGLE_Final.ipynb\" target=\"_parent\"><img src=\"https://colab.research.google.com/assets/colab-badge.svg\" alt=\"Open In Colab\"/></a>"
      ]
    },
    {
      "cell_type": "markdown",
      "metadata": {
        "id": "AoaGsrlF5wqU",
        "colab_type": "text"
      },
      "source": [
        "# REQUISITES\n",
        "****\n",
        "**DEPENDENCIES**\n",
        "\n",
        "Importing the necessary Libraries "
      ]
    },
    {
      "cell_type": "code",
      "metadata": {
        "id": "fac4w2q349Rn",
        "colab_type": "code",
        "outputId": "bb983394-4e50-4457-df7b-8295e19ff638",
        "colab": {
          "base_uri": "https://localhost:8080/",
          "height": 107
        }
      },
      "source": [
        "import seaborn as sns\n",
        "import matplotlib.pyplot as plt\n",
        "\n",
        "import numpy as np \n",
        "import pandas as pd \n",
        "\n",
        "import re\n",
        "import string\n",
        "import nltk\n",
        "from nltk.corpus import stopwords\n",
        "nltk.download('stopwords')\n",
        "\n",
        "# sklearn \n",
        "from sklearn import model_selection\n",
        "from sklearn.feature_extraction.text import CountVectorizer,TfidfVectorizer,TfidfTransformer\n",
        "from sklearn.linear_model import LogisticRegression\n",
        "from sklearn.naive_bayes import MultinomialNB\n",
        "from sklearn.metrics import f1_score,accuracy_score\n",
        "from sklearn import preprocessing, decomposition, model_selection, metrics, pipeline\n",
        "from sklearn.model_selection import GridSearchCV,StratifiedKFold,RandomizedSearchCV\n",
        "\n"
      ],
      "execution_count": 0,
      "outputs": [
        {
          "output_type": "stream",
          "text": [
            "/usr/local/lib/python3.6/dist-packages/statsmodels/tools/_testing.py:19: FutureWarning: pandas.util.testing is deprecated. Use the functions in the public API at pandas.testing instead.\n",
            "  import pandas.util.testing as tm\n"
          ],
          "name": "stderr"
        },
        {
          "output_type": "stream",
          "text": [
            "[nltk_data] Downloading package stopwords to /root/nltk_data...\n",
            "[nltk_data]   Unzipping corpora/stopwords.zip.\n"
          ],
          "name": "stdout"
        }
      ]
    },
    {
      "cell_type": "markdown",
      "metadata": {
        "id": "d2CJe0oW8cWt",
        "colab_type": "text"
      },
      "source": [
        "**DATASET ACQUISITION**\n",
        "\n",
        "Downloading the required Csv files using the Kaggle API"
      ]
    },
    {
      "cell_type": "code",
      "metadata": {
        "id": "q6_-r1a_4GCu",
        "colab_type": "code",
        "colab": {}
      },
      "source": [
        "!mkdir .kaggle  #Making a .kaggle folder"
      ],
      "execution_count": 0,
      "outputs": []
    },
    {
      "cell_type": "code",
      "metadata": {
        "id": "EjjeT_VT4xQg",
        "colab_type": "code",
        "colab": {}
      },
      "source": [
        "### Creating a file with our Credentials for the Kaggle API\n",
        "\n",
        "import json\n",
        "token = {\"username\":\"XXXXXX\",\"key\":\"XXXXXXXXX\"}\n",
        "with open('/content/.kaggle/kaggle.json', 'w') as file:\n",
        "    json.dump(token, file)"
      ],
      "execution_count": 0,
      "outputs": []
    },
    {
      "cell_type": "code",
      "metadata": {
        "id": "QrWqfNsh5Ubv",
        "colab_type": "code",
        "outputId": "d5b38942-bb85-4916-9ab1-ae6f93449bc3",
        "colab": {
          "base_uri": "https://localhost:8080/",
          "height": 34
        }
      },
      "source": [
        "!cp /content/.kaggle/kaggle.json ~/.kaggle/kaggle.json #Copy the Credentials to .kaggle folder\n",
        "!chmod 600 /root/.kaggle/kaggle.json  #Change Permissions for the Credentials file \n",
        "!kaggle config set -n path -v{/content} #Setting up download path for the Kaggle API"
      ],
      "execution_count": 0,
      "outputs": [
        {
          "output_type": "stream",
          "text": [
            "- path is now set to: {/content}\n"
          ],
          "name": "stdout"
        }
      ]
    },
    {
      "cell_type": "code",
      "metadata": {
        "id": "K5F-lECT45FQ",
        "colab_type": "code",
        "outputId": "310b3f56-afbe-48ec-9b31-d0edb92e77cf",
        "colab": {
          "base_uri": "https://localhost:8080/",
          "height": 187
        }
      },
      "source": [
        "!kaggle competitions download -c nlp-getting-started # Downloading the Competitions Dataset"
      ],
      "execution_count": 0,
      "outputs": [
        {
          "output_type": "stream",
          "text": [
            "Warning: Looks like you're using an outdated API Version, please consider updating (server 1.5.6 / client 1.5.4)\n",
            "Downloading sample_submission.csv to {/content}/competitions/nlp-getting-started\n",
            "\r  0% 0.00/22.2k [00:00<?, ?B/s]\n",
            "100% 22.2k/22.2k [00:00<00:00, 40.4MB/s]\n",
            "Downloading train.csv to {/content}/competitions/nlp-getting-started\n",
            "  0% 0.00/965k [00:00<?, ?B/s]\n",
            "100% 965k/965k [00:00<00:00, 63.9MB/s]\n",
            "Downloading test.csv to {/content}/competitions/nlp-getting-started\n",
            "  0% 0.00/411k [00:00<?, ?B/s]\n",
            "100% 411k/411k [00:00<00:00, 56.6MB/s]\n"
          ],
          "name": "stdout"
        }
      ]
    },
    {
      "cell_type": "code",
      "metadata": {
        "colab_type": "code",
        "id": "RLnIHHw7221Z",
        "colab": {}
      },
      "source": [
        "train = pd.read_csv('/content/{/content}/competitions/nlp-getting-started/train.csv')\n",
        "test = pd.read_csv('/content/{/content}/competitions/nlp-getting-started/test.csv')\n",
        "submission = pd.read_csv('/content/{/content}/competitions/nlp-getting-started/sample_submission.csv')"
      ],
      "execution_count": 0,
      "outputs": []
    },
    {
      "cell_type": "markdown",
      "metadata": {
        "id": "z6Tq0pQe-YO8",
        "colab_type": "text"
      },
      "source": [
        "# DATA FAMILIARIZATION\n",
        "****\n",
        "Familiarizing ourselves with the Distribution of dataset contents"
      ]
    },
    {
      "cell_type": "markdown",
      "metadata": {
        "id": "wUdVCf0Z5Jus",
        "colab_type": "text"
      },
      "source": [
        "##Disaster and Non Disaster Tweets Distribution \n",
        "\n",
        "Comparing distribution of Disaster and Non Disaster Tweets"
      ]
    },
    {
      "cell_type": "code",
      "metadata": {
        "id": "I7cmQhKQkDII",
        "colab_type": "code",
        "outputId": "5c1ffa07-da02-41ff-ec07-4e00043af562",
        "colab": {
          "base_uri": "https://localhost:8080/",
          "height": 282
        }
      },
      "source": [
        "x=train.target.value_counts()\n",
        "fig = sns.barplot(x.index,x)\n",
        "fig.set_ylabel('Count')\n"
      ],
      "execution_count": 0,
      "outputs": [
        {
          "output_type": "execute_result",
          "data": {
            "text/plain": [
              "Text(0, 0.5, 'Count')"
            ]
          },
          "metadata": {
            "tags": []
          },
          "execution_count": 13
        },
        {
          "output_type": "display_data",
          "data": {
            "image/png": "[encoded data removed]",
            "text/plain": [
              "<Figure size 432x288 with 1 Axes>"
            ]
          },
          "metadata": {
            "tags": []
          }
        }
      ]
    },
    {
      "cell_type": "markdown",
      "metadata": {
        "id": "WquqdADf5fQJ",
        "colab_type": "text"
      },
      "source": [
        "##Frequency Distribution of Characters\n",
        "Plotting the frequency distribution of Characters in Disaster and Non-Disaster Tweets"
      ]
    },
    {
      "cell_type": "code",
      "metadata": {
        "id": "Ifpl3JJvtcEw",
        "colab_type": "code",
        "outputId": "8aec710b-5ecc-4107-c7cf-ec4849658888",
        "colab": {
          "base_uri": "https://localhost:8080/",
          "height": 356
        }
      },
      "source": [
        "fig,(ax1,ax2)=plt.subplots(1,2,figsize=(10,5))\n",
        "tweet_len=train[train['target']==1]['text'].str.len()\n",
        "ax1.hist(tweet_len , color='black')\n",
        "ax1.set_title('Disaster Yes Tweets')\n",
        "tweet_len=train[train['target']==0]['text'].str.len()\n",
        "ax2.hist(tweet_len)\n",
        "ax2.set_title('Disaster No tweets')\n",
        "fig.suptitle('Characters in tweets')\n",
        "plt.show()"
      ],
      "execution_count": 0,
      "outputs": [
        {
          "output_type": "display_data",
          "data": {
            "image/png": "[encoded data removed]",
            "text/plain": [
              "<Figure size 720x360 with 2 Axes>"
            ]
          },
          "metadata": {
            "tags": []
          }
        }
      ]
    },
    {
      "cell_type": "markdown",
      "metadata": {
        "id": "dYqnhdw_3zBm",
        "colab_type": "text"
      },
      "source": [
        "##Keyword Distribution\n",
        "\n",
        "Comparing distribution of Disaster and Non Disaster Tweets"
      ]
    },
    {
      "cell_type": "code",
      "metadata": {
        "id": "IZq-fr_suNk3",
        "colab_type": "code",
        "outputId": "092ba3f2-1c15-492c-b1fb-f4b661f455da",
        "colab": {
          "base_uri": "https://localhost:8080/",
          "height": 357
        }
      },
      "source": [
        "x=train[train['target']==1]['keyword'].value_counts()\n",
        "x = x.sort_values(ascending=False)\n",
        "fig = sns.barplot(x.index[:10],x[:10])\n",
        "fig.set_xticklabels(list(set(train['keyword'])),rotation=90)\n",
        "fig.set_title(\"\")\n"
      ],
      "execution_count": 0,
      "outputs": [
        {
          "output_type": "execute_result",
          "data": {
            "text/plain": [
              "Text(0.5, 1.0, '')"
            ]
          },
          "metadata": {
            "tags": []
          },
          "execution_count": 19
        },
        {
          "output_type": "display_data",
          "data": {
            "image/png": "[encoded data removed]",
            "text/plain": [
              "<Figure size 432x288 with 1 Axes>"
            ]
          },
          "metadata": {
            "tags": []
          }
        }
      ]
    },
    {
      "cell_type": "code",
      "metadata": {
        "id": "Qn9knMbx3Nai",
        "colab_type": "code",
        "outputId": "d6e45a1c-3d9b-4398-8005-545bdf177fa3",
        "colab": {
          "base_uri": "https://localhost:8080/",
          "height": 357
        }
      },
      "source": [
        "x=train[train['target']==0]['keyword'].value_counts()\n",
        "x = x.sort_values(ascending=False)\n",
        "fig = sns.barplot(x.index[:10],x[:10])\n",
        "fig.set_xticklabels(list(set(train['keyword'])),rotation=90)\n",
        "fig.set_title(\"\")"
      ],
      "execution_count": 0,
      "outputs": [
        {
          "output_type": "execute_result",
          "data": {
            "text/plain": [
              "Text(0.5, 1.0, '')"
            ]
          },
          "metadata": {
            "tags": []
          },
          "execution_count": 20
        },
        {
          "output_type": "display_data",
          "data": {
            "image/png": "[encoded data removed]",
            "text/plain": [
              "<Figure size 432x288 with 1 Axes>"
            ]
          },
          "metadata": {
            "tags": []
          }
        }
      ]
    },
    {
      "cell_type": "markdown",
      "metadata": {
        "id": "WKwju2Rb6rqe",
        "colab_type": "text"
      },
      "source": [
        "# DATA PREPROCESSING\n",
        "****\n",
        "In this section the dataset is preProcessed to remove Characters and Stopwords from the Tweets "
      ]
    },
    {
      "cell_type": "code",
      "metadata": {
        "colab_type": "code",
        "id": "K5TD83qG220_",
        "colab": {}
      },
      "source": [
        "def clean_text(text):\n",
        "    '''Make text lowercase, remove text in square brackets,remove links,remove punctuation\n",
        "    and remove words containing numbers.'''\n",
        "    text = text.lower()\n",
        "    text = re.sub('\\[.*?\\]', '', text)\n",
        "    text = re.sub('https?://\\S+|www\\.\\S+', '', text)\n",
        "    text = re.sub('<.*?>+', '', text)\n",
        "    text = re.sub('[%s]' % re.escape(string.punctuation), '', text)\n",
        "    text = re.sub('\\n', '', text)\n",
        "    text = re.sub('\\w*\\d\\w*', '', text)\n",
        "    return text"
      ],
      "execution_count": 0,
      "outputs": []
    },
    {
      "cell_type": "code",
      "metadata": {
        "colab_type": "code",
        "id": "i0GpyU4B2208",
        "colab": {}
      },
      "source": [
        "def text_preprocessing(text):\n",
        "    tokenizer = nltk.tokenize.RegexpTokenizer(r'\\w+')\n",
        "    nopunc = clean_text(text)\n",
        "    tokenized_text = tokenizer.tokenize(nopunc)\n",
        "    remove_stopwords = [w for w in tokenized_text if w not in stopwords.words('english')]\n",
        "    combined_text = ' '.join(remove_stopwords)\n",
        "    return combined_text\n",
        "train['text'] = train['text'].apply(lambda x: text_preprocessing(x))\n",
        "test['text'] = test['text'].apply(lambda x: text_preprocessing(x))"
      ],
      "execution_count": 0,
      "outputs": []
    },
    {
      "cell_type": "code",
      "metadata": {
        "colab_type": "code",
        "id": "34fgFWbN221X",
        "outputId": "8f17f6a0-8f25-483e-b6cc-4d9a49fcf0dd",
        "colab": {
          "base_uri": "https://localhost:8080/",
          "height": 204
        }
      },
      "source": [
        "train.head()"
      ],
      "execution_count": 0,
      "outputs": [
        {
          "output_type": "execute_result",
          "data": {
            "text/html": [
              "<div>\n",
              "<style scoped>\n",
              "    .dataframe tbody tr th:only-of-type {\n",
              "        vertical-align: middle;\n",
              "    }\n",
              "\n",
              "    .dataframe tbody tr th {\n",
              "        vertical-align: top;\n",
              "    }\n",
              "\n",
              "    .dataframe thead th {\n",
              "        text-align: right;\n",
              "    }\n",
              "</style>\n",
              "<table border=\"1\" class=\"dataframe\">\n",
              "  <thead>\n",
              "    <tr style=\"text-align: right;\">\n",
              "      <th></th>\n",
              "      <th>id</th>\n",
              "      <th>keyword</th>\n",
              "      <th>location</th>\n",
              "      <th>text</th>\n",
              "      <th>target</th>\n",
              "    </tr>\n",
              "  </thead>\n",
              "  <tbody>\n",
              "    <tr>\n",
              "      <th>0</th>\n",
              "      <td>1</td>\n",
              "      <td>NaN</td>\n",
              "      <td>NaN</td>\n",
              "      <td>deeds reason earthquake may allah forgive us</td>\n",
              "      <td>1</td>\n",
              "    </tr>\n",
              "    <tr>\n",
              "      <th>1</th>\n",
              "      <td>4</td>\n",
              "      <td>NaN</td>\n",
              "      <td>NaN</td>\n",
              "      <td>forest fire near la ronge sask canada</td>\n",
              "      <td>1</td>\n",
              "    </tr>\n",
              "    <tr>\n",
              "      <th>2</th>\n",
              "      <td>5</td>\n",
              "      <td>NaN</td>\n",
              "      <td>NaN</td>\n",
              "      <td>residents asked shelter place notified officer...</td>\n",
              "      <td>1</td>\n",
              "    </tr>\n",
              "    <tr>\n",
              "      <th>3</th>\n",
              "      <td>6</td>\n",
              "      <td>NaN</td>\n",
              "      <td>NaN</td>\n",
              "      <td>people receive wildfires evacuation orders cal...</td>\n",
              "      <td>1</td>\n",
              "    </tr>\n",
              "    <tr>\n",
              "      <th>4</th>\n",
              "      <td>7</td>\n",
              "      <td>NaN</td>\n",
              "      <td>NaN</td>\n",
              "      <td>got sent photo ruby alaska smoke wildfires pou...</td>\n",
              "      <td>1</td>\n",
              "    </tr>\n",
              "  </tbody>\n",
              "</table>\n",
              "</div>"
            ],
            "text/plain": [
              "   id keyword  ...                                               text target\n",
              "0   1     NaN  ...       deeds reason earthquake may allah forgive us      1\n",
              "1   4     NaN  ...              forest fire near la ronge sask canada      1\n",
              "2   5     NaN  ...  residents asked shelter place notified officer...      1\n",
              "3   6     NaN  ...  people receive wildfires evacuation orders cal...      1\n",
              "4   7     NaN  ...  got sent photo ruby alaska smoke wildfires pou...      1\n",
              "\n",
              "[5 rows x 5 columns]"
            ]
          },
          "metadata": {
            "tags": []
          },
          "execution_count": 23
        }
      ]
    },
    {
      "cell_type": "code",
      "metadata": {
        "colab_type": "code",
        "id": "LZMy_i3Z221U",
        "outputId": "7b48a6c8-85eb-486c-9493-44ce5eec212f",
        "colab": {
          "base_uri": "https://localhost:8080/",
          "height": 230
        }
      },
      "source": [
        "test['text'] = test['text'].apply(lambda x: clean_text(x))\n",
        "test['text']"
      ],
      "execution_count": 0,
      "outputs": [
        {
          "output_type": "execute_result",
          "data": {
            "text/plain": [
              "0                             happened terrible car crash\n",
              "1       heard earthquake different cities stay safe ev...\n",
              "2       forest fire spot pond geese fleeing across str...\n",
              "3                   apocalypse lighting spokane wildfires\n",
              "4                     typhoon soudelor kills china taiwan\n",
              "                              ...                        \n",
              "3258    earthquake safety los angeles ûò safety fasten...\n",
              "3259    storm ri worse last hurricane hardest hit yard...\n",
              "3260                        green line derailment chicago\n",
              "3261             meg issues hazardous weather outlook hwo\n",
              "3262    cityofcalgary activated municipal emergency pl...\n",
              "Name: text, Length: 3263, dtype: object"
            ]
          },
          "metadata": {
            "tags": []
          },
          "execution_count": 12
        }
      ]
    },
    {
      "cell_type": "code",
      "metadata": {
        "colab_type": "code",
        "id": "kO6qMusr221Q",
        "outputId": "40f7bb48-7575-48f2-affb-0075b2f42c4b",
        "colab": {
          "base_uri": "https://localhost:8080/",
          "height": 119
        }
      },
      "source": [
        "train.isnull().sum()"
      ],
      "execution_count": 0,
      "outputs": [
        {
          "output_type": "execute_result",
          "data": {
            "text/plain": [
              "id             0\n",
              "keyword       61\n",
              "location    2533\n",
              "text           0\n",
              "target         0\n",
              "dtype: int64"
            ]
          },
          "metadata": {
            "tags": []
          },
          "execution_count": 25
        }
      ]
    },
    {
      "cell_type": "code",
      "metadata": {
        "colab_type": "code",
        "id": "vbtarKKM221O",
        "outputId": "6fc8b7c0-946c-4a69-c749-7fce383c5331",
        "colab": {
          "base_uri": "https://localhost:8080/",
          "height": 102
        }
      },
      "source": [
        "test.isnull().sum()"
      ],
      "execution_count": 0,
      "outputs": [
        {
          "output_type": "execute_result",
          "data": {
            "text/plain": [
              "id             0\n",
              "keyword       26\n",
              "location    1105\n",
              "text           0\n",
              "dtype: int64"
            ]
          },
          "metadata": {
            "tags": []
          },
          "execution_count": 26
        }
      ]
    },
    {
      "cell_type": "code",
      "metadata": {
        "colab_type": "code",
        "id": "AdO52uEX221L",
        "outputId": "c07561a3-0991-48d4-8795-ba73bcbacef7",
        "colab": {
          "base_uri": "https://localhost:8080/",
          "height": 68
        }
      },
      "source": [
        "train['target'].value_counts()"
      ],
      "execution_count": 0,
      "outputs": [
        {
          "output_type": "execute_result",
          "data": {
            "text/plain": [
              "0    4342\n",
              "1    3271\n",
              "Name: target, dtype: int64"
            ]
          },
          "metadata": {
            "tags": []
          },
          "execution_count": 27
        }
      ]
    },
    {
      "cell_type": "code",
      "metadata": {
        "colab_type": "code",
        "id": "_1tuvIou2204",
        "outputId": "0331ebe2-5e80-494f-d011-3a7cd4461c10",
        "colab": {
          "base_uri": "https://localhost:8080/",
          "height": 204
        }
      },
      "source": [
        "train.head()"
      ],
      "execution_count": 0,
      "outputs": [
        {
          "output_type": "execute_result",
          "data": {
            "text/html": [
              "<div>\n",
              "<style scoped>\n",
              "    .dataframe tbody tr th:only-of-type {\n",
              "        vertical-align: middle;\n",
              "    }\n",
              "\n",
              "    .dataframe tbody tr th {\n",
              "        vertical-align: top;\n",
              "    }\n",
              "\n",
              "    .dataframe thead th {\n",
              "        text-align: right;\n",
              "    }\n",
              "</style>\n",
              "<table border=\"1\" class=\"dataframe\">\n",
              "  <thead>\n",
              "    <tr style=\"text-align: right;\">\n",
              "      <th></th>\n",
              "      <th>id</th>\n",
              "      <th>keyword</th>\n",
              "      <th>location</th>\n",
              "      <th>text</th>\n",
              "      <th>target</th>\n",
              "    </tr>\n",
              "  </thead>\n",
              "  <tbody>\n",
              "    <tr>\n",
              "      <th>0</th>\n",
              "      <td>1</td>\n",
              "      <td>NaN</td>\n",
              "      <td>NaN</td>\n",
              "      <td>deeds reason earthquake may allah forgive us</td>\n",
              "      <td>1</td>\n",
              "    </tr>\n",
              "    <tr>\n",
              "      <th>1</th>\n",
              "      <td>4</td>\n",
              "      <td>NaN</td>\n",
              "      <td>NaN</td>\n",
              "      <td>forest fire near la ronge sask canada</td>\n",
              "      <td>1</td>\n",
              "    </tr>\n",
              "    <tr>\n",
              "      <th>2</th>\n",
              "      <td>5</td>\n",
              "      <td>NaN</td>\n",
              "      <td>NaN</td>\n",
              "      <td>residents asked shelter place notified officer...</td>\n",
              "      <td>1</td>\n",
              "    </tr>\n",
              "    <tr>\n",
              "      <th>3</th>\n",
              "      <td>6</td>\n",
              "      <td>NaN</td>\n",
              "      <td>NaN</td>\n",
              "      <td>people receive wildfires evacuation orders cal...</td>\n",
              "      <td>1</td>\n",
              "    </tr>\n",
              "    <tr>\n",
              "      <th>4</th>\n",
              "      <td>7</td>\n",
              "      <td>NaN</td>\n",
              "      <td>NaN</td>\n",
              "      <td>got sent photo ruby alaska smoke wildfires pou...</td>\n",
              "      <td>1</td>\n",
              "    </tr>\n",
              "  </tbody>\n",
              "</table>\n",
              "</div>"
            ],
            "text/plain": [
              "   id keyword  ...                                               text target\n",
              "0   1     NaN  ...       deeds reason earthquake may allah forgive us      1\n",
              "1   4     NaN  ...              forest fire near la ronge sask canada      1\n",
              "2   5     NaN  ...  residents asked shelter place notified officer...      1\n",
              "3   6     NaN  ...  people receive wildfires evacuation orders cal...      1\n",
              "4   7     NaN  ...  got sent photo ruby alaska smoke wildfires pou...      1\n",
              "\n",
              "[5 rows x 5 columns]"
            ]
          },
          "metadata": {
            "tags": []
          },
          "execution_count": 28
        }
      ]
    },
    {
      "cell_type": "code",
      "metadata": {
        "colab_type": "code",
        "id": "Lt2gQNqI220w",
        "colab": {}
      },
      "source": [
        "tfidf = TfidfVectorizer(min_df=2, max_df=0.5, ngram_range=(1, 2))\n",
        "train_tfidf = tfidf.fit_transform(train['text'])\n",
        "test_tfidf = tfidf.transform(test[\"text\"])"
      ],
      "execution_count": 0,
      "outputs": []
    },
    {
      "cell_type": "code",
      "metadata": {
        "id": "X8otzVWcRm5S",
        "colab_type": "code",
        "colab": {}
      },
      "source": [
        "#print(train_tfidf)"
      ],
      "execution_count": 0,
      "outputs": []
    },
    {
      "cell_type": "markdown",
      "metadata": {
        "id": "GQqHZ2oI_RXi",
        "colab_type": "text"
      },
      "source": [
        "# SUBMISSION\n",
        "****\n",
        "**MODEL SELECTION**\n",
        "\n",
        "Selecting the appropriate model for data prediction"
      ]
    },
    {
      "cell_type": "markdown",
      "metadata": {
        "id": "CeRfgARB15_3",
        "colab_type": "text"
      },
      "source": [
        "**REGRESSION MODELS**"
      ]
    },
    {
      "cell_type": "code",
      "metadata": {
        "id": "VgXwV4QoZUo6",
        "colab_type": "code",
        "outputId": "e884a725-6059-40dd-cb9f-66bd0a0a8019",
        "colab": {
          "base_uri": "https://localhost:8080/",
          "height": 34
        }
      },
      "source": [
        "from sklearn.linear_model import LogisticRegression\n",
        "model = LogisticRegression()\n",
        "scores = model_selection.cross_val_score(model, train_tfidf, train[\"target\"], cv=5, scoring=\"accuracy\")\n",
        "scores.mean()"
      ],
      "execution_count": 0,
      "outputs": [
        {
          "output_type": "execute_result",
          "data": {
            "text/plain": [
              "0.6889563702596111"
            ]
          },
          "metadata": {
            "tags": []
          },
          "execution_count": 31
        }
      ]
    },
    {
      "cell_type": "code",
      "metadata": {
        "id": "2DTrEfGSfr9U",
        "colab_type": "code",
        "outputId": "8d6c973c-d94b-480b-c1cc-526439c99945",
        "colab": {
          "base_uri": "https://localhost:8080/",
          "height": 34
        }
      },
      "source": [
        "from sklearn.linear_model import RidgeClassifier\n",
        "RC = RidgeClassifier()\n",
        "scores = model_selection.cross_val_score(RC, train_tfidf, train[\"target\"], cv=5, scoring=\"accuracy\")\n",
        "scores.mean()"
      ],
      "execution_count": 0,
      "outputs": [
        {
          "output_type": "execute_result",
          "data": {
            "text/plain": [
              "0.6626870681094009"
            ]
          },
          "metadata": {
            "tags": []
          },
          "execution_count": 33
        }
      ]
    },
    {
      "cell_type": "markdown",
      "metadata": {
        "id": "4kbBz1Ta2JP2",
        "colab_type": "text"
      },
      "source": [
        "**MULTINOMIAL NAVIE BAYES**"
      ]
    },
    {
      "cell_type": "code",
      "metadata": {
        "id": "P98wDL5Jft2a",
        "colab_type": "code",
        "outputId": "3e78bb3d-16b9-40d8-d7aa-efeccd032d07",
        "colab": {
          "base_uri": "https://localhost:8080/",
          "height": 34
        }
      },
      "source": [
        "clf_NB_TFIDF = MultinomialNB()\n",
        "scores = model_selection.cross_val_score(clf_NB_TFIDF, train_tfidf, train[\"target\"], cv=5, scoring=\"accuracy\")\n",
        "scores.mean()"
      ],
      "execution_count": 0,
      "outputs": [
        {
          "output_type": "execute_result",
          "data": {
            "text/plain": [
              "0.7207485226526592"
            ]
          },
          "metadata": {
            "tags": []
          },
          "execution_count": 14
        }
      ]
    },
    {
      "cell_type": "markdown",
      "metadata": {
        "id": "BbIwP2an1vZK",
        "colab_type": "text"
      },
      "source": [
        "**TIME SERIES MODEL**"
      ]
    },
    {
      "cell_type": "code",
      "metadata": {
        "id": "0KclL_qxBJfy",
        "colab_type": "code",
        "outputId": "b2625e10-62fe-4124-a2b2-3a3a1f2ac641",
        "colab": {
          "base_uri": "https://localhost:8080/",
          "height": 34
        }
      },
      "source": [
        "\n",
        "\n",
        "\n",
        "\n",
        "\n",
        "from sklearn import model_selection\n",
        "\n",
        "\n",
        "import csv\n",
        "import tensorflow as tf\n",
        "\n",
        "from tensorflow.keras.preprocessing.text import Tokenizer\n",
        "from tensorflow.keras.preprocessing.sequence import pad_sequences\n",
        "from nltk.corpus import stopwords\n",
        "STOPWORDS = set(stopwords.words('english'))\n",
        "\n",
        "print(tf.__version__)\n",
        "\n",
        "from sklearn import preprocessing\n",
        "from numpy import asarray\n",
        "from numpy import zeros\n",
        "from keras.layers import Flatten\n",
        "from numpy import array\n",
        "\n",
        "\n"
      ],
      "execution_count": 0,
      "outputs": [
        {
          "output_type": "stream",
          "text": [
            "2.2.0-rc2\n"
          ],
          "name": "stdout"
        }
      ]
    },
    {
      "cell_type": "code",
      "metadata": {
        "id": "rOhV1h3JmNqj",
        "colab_type": "code",
        "outputId": "a93649a8-95ea-4697-b906-921906691fdf",
        "colab": {
          "base_uri": "https://localhost:8080/",
          "height": 230
        }
      },
      "source": [
        "vocab_size = 5000\n",
        "embedding_dim = 64\n",
        "max_length = 50\n",
        "trunc_type = 'post'\n",
        "padding_type = 'post'\n",
        "oov_tok = '<OOV>'\n",
        "training_portion = .8\n",
        "\n",
        "tweets = []\n",
        "labels = []\n",
        "\n",
        "for index, row in train.iterrows():\n",
        "  labels.append(str(row[4]))\n",
        "  article = row[3]\n",
        "  for word in STOPWORDS:\n",
        "            token = ' ' + word + ' '\n",
        "            article = article.replace(token, ' ')\n",
        "            article = article.replace(' ', ' ')\n",
        "  tweets.append(article)\n",
        "        \n",
        "   \n",
        "print(len(labels))\n",
        "print(len(tweets))\n",
        "train_size = int(len(tweets) * training_portion)\n",
        "\n",
        "train_articles = tweets[0: train_size]\n",
        "train_labels = labels[0: train_size]\n",
        "\n",
        "validation_articles = tweets[train_size:]\n",
        "validation_labels = labels[train_size:]\n",
        "\n",
        "tokenizer = Tokenizer(num_words = vocab_size, oov_token=oov_tok)\n",
        "tokenizer.fit_on_texts(train_articles)\n",
        "word_index = tokenizer.word_index\n",
        "vocab_size = len(tokenizer.word_index) + 1\n",
        "dict(list(word_index.items())[0:10])"
      ],
      "execution_count": 0,
      "outputs": [
        {
          "output_type": "stream",
          "text": [
            "7613\n",
            "7613\n"
          ],
          "name": "stdout"
        },
        {
          "output_type": "execute_result",
          "data": {
            "text/plain": [
              "{'<OOV>': 1,\n",
              " 'amp': 3,\n",
              " 'body': 9,\n",
              " 'emergency': 8,\n",
              " 'i': 2,\n",
              " 'like': 4,\n",
              " 'new': 6,\n",
              " 'people': 7,\n",
              " 'the': 5,\n",
              " 'video': 10}"
            ]
          },
          "metadata": {
            "tags": []
          },
          "execution_count": 70
        }
      ]
    },
    {
      "cell_type": "code",
      "metadata": {
        "id": "uO11PI5gmgAu",
        "colab_type": "code",
        "outputId": "0c6277d0-489d-48dc-e0b7-ce90840fd8ad",
        "colab": {
          "base_uri": "https://localhost:8080/",
          "height": 70
        }
      },
      "source": [
        "train_sequences = tokenizer.texts_to_sequences(train_articles)\n",
        "train_padded = pad_sequences(train_sequences, maxlen=max_length, padding=padding_type, truncating=trunc_type)\n",
        "validation_sequences = tokenizer.texts_to_sequences(validation_articles)\n",
        "validation_padded = pad_sequences(validation_sequences, maxlen=max_length, padding=padding_type, truncating=trunc_type)\n",
        "\n",
        "print(len(validation_sequences))\n",
        "print(validation_padded.shape)\n",
        "print(set(labels))\n"
      ],
      "execution_count": 0,
      "outputs": [
        {
          "output_type": "stream",
          "text": [
            "1523\n",
            "(1523, 50)\n",
            "{'1', '0'}\n"
          ],
          "name": "stdout"
        }
      ]
    },
    {
      "cell_type": "code",
      "metadata": {
        "id": "GxtHKi9nmkJ_",
        "colab_type": "code",
        "outputId": "d00b80ec-5bfa-45b2-b001-1221f88254df",
        "colab": {
          "base_uri": "https://localhost:8080/",
          "height": 34
        }
      },
      "source": [
        "\n",
        "embeddings_index = dict()\n",
        "f = open('glove.6B.100d.txt')\n",
        "for line in f:\n",
        "\t  values = line.split()\n",
        "\t  word = values[0]\n",
        "\t  coefs = asarray(values[1:], dtype='float32')\n",
        "\t  embeddings_index[word] = coefs\n",
        "f.close()\n",
        "print('Loaded %s word vectors.' % len(embeddings_index))"
      ],
      "execution_count": 0,
      "outputs": [
        {
          "output_type": "stream",
          "text": [
            "Loaded 353214 word vectors.\n"
          ],
          "name": "stdout"
        }
      ]
    },
    {
      "cell_type": "code",
      "metadata": {
        "id": "cf2OLrGFmn2X",
        "colab_type": "code",
        "colab": {}
      },
      "source": [
        "# create a weight matrix for words in training docs\n",
        "embedding_matrix = zeros((vocab_size, 100))\n",
        "\n",
        "for word, i in tokenizer.word_index.items():\n",
        "  if i > vocab_size:\n",
        "    continue\n",
        "  embedding_vector = embeddings_index.get(word)\n",
        "  # print(shape(embedding_vector))\n",
        "\n",
        "  if embedding_vector is not None:\n",
        "    embedding_matrix[i] = embedding_vector"
      ],
      "execution_count": 0,
      "outputs": []
    },
    {
      "cell_type": "code",
      "metadata": {
        "id": "4H8UJ3eUmryw",
        "colab_type": "code",
        "outputId": "a44aac4c-74f9-4214-b34c-701b188bff88",
        "colab": {
          "base_uri": "https://localhost:8080/",
          "height": 70
        }
      },
      "source": [
        "label_tokenizer = Tokenizer()\n",
        "label_tokenizer.fit_on_texts(labels)\n",
        "\n",
        "training_label_seq = np.array(label_tokenizer.texts_to_sequences(train_labels))\n",
        "validation_label_seq = np.array(label_tokenizer.texts_to_sequences(validation_labels))\n",
        "reverse_word_index = dict([(value, key) for (key, value) in word_index.items()])\n",
        "\n",
        "def decode_article(text):\n",
        "    return ' '.join([reverse_word_index.get(i, '?') for i in text])\n",
        "print(decode_article(train_padded[10]))\n",
        "print('---')\n",
        "print(train_articles[10])"
      ],
      "execution_count": 0,
      "outputs": [
        {
          "output_type": "stream",
          "text": [
            "three people died heat wave far ? ? ? ? ? ? ? ? ? ? ? ? ? ? ? ? ? ? ? ? ? ? ? ? ? ? ? ? ? ? ? ? ? ? ? ? ? ? ? ? ? ? ? ?\n",
            "---\n",
            "three people died heat wave far\n"
          ],
          "name": "stdout"
        }
      ]
    },
    {
      "cell_type": "code",
      "metadata": {
        "id": "miSSz48cmvej",
        "colab_type": "code",
        "outputId": "4d20cd88-49e6-4ea8-a324-59a2fa65af6e",
        "colab": {
          "base_uri": "https://localhost:8080/",
          "height": 301
        }
      },
      "source": [
        "model = tf.keras.Sequential([\n",
        "   \n",
        "    tf.keras.layers.Embedding(vocab_size, 100, weights=[embedding_matrix], input_length=50, trainable=False),\n",
        "    #tf.keras.layers.Flatten(),\n",
        "    tf.keras.layers.Bidirectional(tf.keras.layers.LSTM(embedding_dim)),\n",
        "\n",
        "    tf.keras.layers.Dense(embedding_dim, activation='relu'),\n",
        "    \n",
        "    tf.keras.layers.Dense(6, activation='softmax')\n",
        "])\n",
        "\n",
        "\n",
        "#model.add(Flatten())\n",
        "model.summary()"
      ],
      "execution_count": 0,
      "outputs": [
        {
          "output_type": "stream",
          "text": [
            "Model: \"sequential_3\"\n",
            "_________________________________________________________________\n",
            "Layer (type)                 Output Shape              Param #   \n",
            "=================================================================\n",
            "embedding_3 (Embedding)      (None, 50, 100)           1150900   \n",
            "_________________________________________________________________\n",
            "bidirectional_3 (Bidirection (None, 128)               84480     \n",
            "_________________________________________________________________\n",
            "dense_6 (Dense)              (None, 64)                8256      \n",
            "_________________________________________________________________\n",
            "dense_7 (Dense)              (None, 6)                 390       \n",
            "=================================================================\n",
            "Total params: 1,244,026\n",
            "Trainable params: 93,126\n",
            "Non-trainable params: 1,150,900\n",
            "_________________________________________________________________\n"
          ],
          "name": "stdout"
        }
      ]
    },
    {
      "cell_type": "code",
      "metadata": {
        "id": "OHDyhCnDmzTA",
        "colab_type": "code",
        "outputId": "6f61a1c4-c069-4bbc-9854-bf143a3fbe88",
        "colab": {
          "base_uri": "https://localhost:8080/",
          "height": 372
        }
      },
      "source": [
        " model.compile(loss='sparse_categorical_crossentropy', optimizer='adam', metrics=['accuracy'])\n",
        "num_epochs = 10\n",
        "#history = model.fit(train_padded, training_label_seq, epochs=num_epochs,validation_split=0.2, verbose=2)\n",
        "history = model.fit(train_padded, training_label_seq, epochs=num_epochs,validation_data=(validation_padded, validation_label_seq), verbose=2)"
      ],
      "execution_count": 0,
      "outputs": [
        {
          "output_type": "stream",
          "text": [
            "Epoch 1/10\n",
            "191/191 - 9s - loss: 0.5628 - accuracy: 0.7524 - val_loss: 0.4534 - val_accuracy: 0.7925\n",
            "Epoch 2/10\n",
            "191/191 - 9s - loss: 0.4544 - accuracy: 0.7975 - val_loss: 0.4553 - val_accuracy: 0.7879\n",
            "Epoch 3/10\n",
            "191/191 - 9s - loss: 0.4408 - accuracy: 0.8033 - val_loss: 0.4590 - val_accuracy: 0.7866\n",
            "Epoch 4/10\n",
            "191/191 - 8s - loss: 0.4205 - accuracy: 0.8143 - val_loss: 0.4490 - val_accuracy: 0.8004\n",
            "Epoch 5/10\n",
            "191/191 - 9s - loss: 0.4059 - accuracy: 0.8255 - val_loss: 0.4517 - val_accuracy: 0.8011\n",
            "Epoch 6/10\n",
            "191/191 - 9s - loss: 0.3839 - accuracy: 0.8294 - val_loss: 0.4485 - val_accuracy: 0.7945\n",
            "Epoch 7/10\n",
            "191/191 - 9s - loss: 0.3739 - accuracy: 0.8412 - val_loss: 0.4651 - val_accuracy: 0.7991\n",
            "Epoch 8/10\n",
            "191/191 - 9s - loss: 0.3432 - accuracy: 0.8516 - val_loss: 0.4799 - val_accuracy: 0.7886\n",
            "Epoch 9/10\n",
            "191/191 - 9s - loss: 0.3153 - accuracy: 0.8701 - val_loss: 0.5052 - val_accuracy: 0.7814\n",
            "Epoch 10/10\n",
            "191/191 - 9s - loss: 0.2892 - accuracy: 0.8851 - val_loss: 0.5486 - val_accuracy: 0.7827\n"
          ],
          "name": "stdout"
        }
      ]
    },
    {
      "cell_type": "markdown",
      "metadata": {
        "id": "wGVYYUCw_XGK",
        "colab_type": "text"
      },
      "source": [
        "**PREDICTION**\n",
        "\n",
        "Training the model and feeding it tweets from test.csv for prediction  "
      ]
    },
    {
      "cell_type": "code",
      "metadata": {
        "id": "Zkhxy9n6Vudf",
        "colab_type": "code",
        "outputId": "541e2f56-b5db-4502-df06-62fa0912116f",
        "colab": {
          "base_uri": "https://localhost:8080/",
          "height": 406
        }
      },
      "source": [
        "clf=MultinomialNB().fit(train_tfidf,train['target'])\n",
        "y_pre = clf.predict(test_tfidf)\n",
        "y_pre=np.round(y_pre).astype(int).reshape(3263)\n",
        "sub=pd.DataFrame({'id':sample_sub['id'].values.tolist(),'target':y_pre})\n",
        "sub.to_csv('submission.csv',index=False)\n",
        "sub"
      ],
      "execution_count": 0,
      "outputs": [
        {
          "output_type": "execute_result",
          "data": {
            "text/html": [
              "<div>\n",
              "<style scoped>\n",
              "    .dataframe tbody tr th:only-of-type {\n",
              "        vertical-align: middle;\n",
              "    }\n",
              "\n",
              "    .dataframe tbody tr th {\n",
              "        vertical-align: top;\n",
              "    }\n",
              "\n",
              "    .dataframe thead th {\n",
              "        text-align: right;\n",
              "    }\n",
              "</style>\n",
              "<table border=\"1\" class=\"dataframe\">\n",
              "  <thead>\n",
              "    <tr style=\"text-align: right;\">\n",
              "      <th></th>\n",
              "      <th>id</th>\n",
              "      <th>target</th>\n",
              "    </tr>\n",
              "  </thead>\n",
              "  <tbody>\n",
              "    <tr>\n",
              "      <th>0</th>\n",
              "      <td>0</td>\n",
              "      <td>1</td>\n",
              "    </tr>\n",
              "    <tr>\n",
              "      <th>1</th>\n",
              "      <td>2</td>\n",
              "      <td>0</td>\n",
              "    </tr>\n",
              "    <tr>\n",
              "      <th>2</th>\n",
              "      <td>3</td>\n",
              "      <td>1</td>\n",
              "    </tr>\n",
              "    <tr>\n",
              "      <th>3</th>\n",
              "      <td>9</td>\n",
              "      <td>1</td>\n",
              "    </tr>\n",
              "    <tr>\n",
              "      <th>4</th>\n",
              "      <td>11</td>\n",
              "      <td>1</td>\n",
              "    </tr>\n",
              "    <tr>\n",
              "      <th>...</th>\n",
              "      <td>...</td>\n",
              "      <td>...</td>\n",
              "    </tr>\n",
              "    <tr>\n",
              "      <th>3258</th>\n",
              "      <td>10861</td>\n",
              "      <td>1</td>\n",
              "    </tr>\n",
              "    <tr>\n",
              "      <th>3259</th>\n",
              "      <td>10865</td>\n",
              "      <td>0</td>\n",
              "    </tr>\n",
              "    <tr>\n",
              "      <th>3260</th>\n",
              "      <td>10868</td>\n",
              "      <td>1</td>\n",
              "    </tr>\n",
              "    <tr>\n",
              "      <th>3261</th>\n",
              "      <td>10874</td>\n",
              "      <td>1</td>\n",
              "    </tr>\n",
              "    <tr>\n",
              "      <th>3262</th>\n",
              "      <td>10875</td>\n",
              "      <td>1</td>\n",
              "    </tr>\n",
              "  </tbody>\n",
              "</table>\n",
              "<p>3263 rows × 2 columns</p>\n",
              "</div>"
            ],
            "text/plain": [
              "         id  target\n",
              "0         0       1\n",
              "1         2       0\n",
              "2         3       1\n",
              "3         9       1\n",
              "4        11       1\n",
              "...     ...     ...\n",
              "3258  10861       1\n",
              "3259  10865       0\n",
              "3260  10868       1\n",
              "3261  10874       1\n",
              "3262  10875       1\n",
              "\n",
              "[3263 rows x 2 columns]"
            ]
          },
          "metadata": {
            "tags": []
          },
          "execution_count": 15
        }
      ]
    },
    {
      "cell_type": "code",
      "metadata": {
        "id": "QCgiwqWmkxNR",
        "colab_type": "code",
        "colab": {}
      },
      "source": [
        "#kaggle competitions submit -c nlp-getting-started -f submission.csv -m \"Message\""
      ],
      "execution_count": 0,
      "outputs": []
    }
  ]
}